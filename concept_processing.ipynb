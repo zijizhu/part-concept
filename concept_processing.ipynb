{
 "cells": [
  {
   "cell_type": "code",
   "execution_count": 55,
   "metadata": {},
   "outputs": [],
   "source": [
    "import json\n",
    "import spacy\n",
    "import numpy as np\n",
    "import pandas as pd\n",
    "from collections import defaultdict\n",
    "\n",
    "nlp = spacy.load(\"en_core_web_sm\")\n",
    "\n",
    "def attach_part_name(concepts: list[str], part_name: str):\n",
    "    concepts_processed = []\n",
    "    for cpt in concepts:\n",
    "        doc = nlp(cpt)\n",
    "        if not any('NOUN' == word.pos_ for word in doc):\n",
    "            cpt = cpt + ' ' + part_name\n",
    "        # if 'than' in cpt or 'male' in cpt:  # Note that this would cause Purple Finch to have 0 concept for torso and American GoldFinch to have 0 concept for head\n",
    "        #     continue \n",
    "        concepts_processed.append(cpt)\n",
    "    return concepts_processed\n",
    "\n",
    "concept_sets = defaultdict(set)\n",
    "with open('concepts/CUB/concepts_processed.json', 'rb') as fp:\n",
    "    concepts_processed = json.load(fp=fp)\n",
    "\n",
    "# Add a noun to purely adjective concepts\n",
    "for class_name, concept_dict in concepts_processed.items():\n",
    "    for part_name, concepts in concept_dict.items():\n",
    "        concepts_with_part_name = attach_part_name(concepts, part_name)\n",
    "        concept_dict[part_name] = concepts_with_part_name\n",
    "        concept_sets[part_name].update(concepts_with_part_name)\n",
    "\n",
    "concept_sets_sorted = {k: sorted(list(v)) for k, v in concept_sets.items()}"
   ]
  },
  {
   "cell_type": "markdown",
   "metadata": {},
   "source": [
    "Concepts with `male`, `than`, etc:"
   ]
  },
  {
   "cell_type": "code",
   "execution_count": 56,
   "metadata": {},
   "outputs": [
    {
     "name": "stdout",
     "output_type": "stream",
     "text": [
      "Black cap in breeding males\n",
      "Bright yellow in males during breeding season\n",
      "Olive or dull yellow in females and non-breeding males\n",
      "black chin and throat in males\n",
      "black hood and throat in males\n",
      "black malar mark (mustache in males)\n",
      "black necklace on males\n",
      "bright blue in males, brown in females\n",
      "bright blue on males\n",
      "bright yellow throat and upper breast in males\n",
      "brownish (female) head\n",
      "buffy or brown crown in females\n",
      "distinct black face mask in males\n",
      "duller black with slight rusty edges in females and juveniles\n",
      "duller coloration in females, often olive-brown\n",
      "glossy black in breeding males\n",
      "grey mask on face (female)\n",
      "males have iridescent pinkish-red throat\n",
      "orange patches on sides for males\n",
      "rosy-pink in males, grayish in females\n",
      "rosy-red head and throat (male)\n",
      "rusty orange on females\n",
      "small red streak on males\n",
      "smaller than the American Crow head\n",
      "striped pattern in females\n",
      "yellow patch (males only)\n",
      "darker than body\n",
      "orange and brown beak in females\n",
      "blue in males, brown in females\n",
      "males have a dark, forked tail\n",
      "shorter than American Crow's tail\n",
      "tail longer in males\n",
      "white band near the tip in males\n",
      "white spots visible on the outer tail feathers, especially in males\n",
      "blue in males, brown in females with some blue\n",
      "brown wings with two white bars (male and female)\n",
      "dark wings with orange or yellow patches for males\n",
      "dark with white patch or bar on the wings in males\n",
      "darker wings in males\n",
      "females have more subdued wing markings\n",
      "grayish with pink or rosy flush in males\n",
      "grey wing feathers in females\n",
      "lighter, olive-yellow wings in females\n",
      "red (male)\n",
      "slightly less vibrant than torso\n",
      "slightly longer than tail wing\n",
      "wings longer than body\n",
      "conspicuous against bright head color on males\n",
      "darker in females\n",
      "not surrounded by any distinct color pattern in females\n",
      "slightly paler than head color\n",
      "surrounded by red skin in males\n",
      "white eyes in males\n",
      "Bright yellow in breeding males\n",
      "Olive or dull yellow in females and non-breeding males\n",
      "bright blue in males, brown in females\n",
      "bright blue upperparts and rusty underparts on males\n",
      "bright red (male)\n",
      "bright red torso in males\n",
      "bright vermilion red torso for males\n",
      "brown-speckled body in females\n",
      "brownish with heavily streaked underparts (female)\n",
      "brownish with streaks on females\n",
      "brownish-black body in females\n",
      "brownish-red (female)\n",
      "buff underparts (in females and juveniles)\n",
      "buffy or rusty brown in females and non-breeding males\n",
      "distinct white rump patch in males\n",
      "duller yellow in females\n",
      "females have a more olive or yellow-brown color\n",
      "grey body in males\n",
      "iridescent ruby red throat in males\n",
      "necklace of short black streaks on chest (males)\n",
      "olive-yellow torso in females\n",
      "orange or yellow patches on sides for males, and yellow for females\n",
      "pale pink torso for females\n",
      "red throat pouch in males\n",
      "rosy-pink in males, more subdued in females\n",
      "rosy-red extending over the chest and back (male)\n",
      "sharp contrast between the hood and chest in males\n",
      "sometimes with reddish streaks on males\n",
      "vibrant blue color and a black throat in males\n",
      "yellow breast in females\n",
      "yellow underparts in males\n"
     ]
    }
   ],
   "source": [
    "for part_name, concepts in concept_sets_sorted.items():\n",
    "    for cpt in concepts:\n",
    "        if 'male' in cpt or 'than' in cpt:\n",
    "            print(cpt)"
   ]
  },
  {
   "cell_type": "markdown",
   "metadata": {},
   "source": [
    "Duplicated Concepts:"
   ]
  },
  {
   "cell_type": "code",
   "execution_count": 57,
   "metadata": {},
   "outputs": [
    {
     "name": "stdout",
     "output_type": "stream",
     "text": [
      "dark streaks\n",
      "iridescent dark blue-black\n",
      "medium length\n",
      "olive-brown\n",
      "Olive or dull yellow in females and non-breeding males\n",
      "black with a blue-green sheen\n",
      "bright blue in males, brown in females\n",
      "dark gray\n",
      "iridescent dark blue-black\n",
      "mottled gray and black\n",
      "white underparts\n"
     ]
    }
   ],
   "source": [
    "all_concepts_set = set()\n",
    "\n",
    "for part_name, concepts in concept_sets_sorted.items():\n",
    "    for cpt in concepts:\n",
    "        if cpt in all_concepts_set:\n",
    "            print(cpt)\n",
    "        else:\n",
    "            all_concepts_set.add(cpt)"
   ]
  },
  {
   "cell_type": "code",
   "execution_count": 58,
   "metadata": {},
   "outputs": [
    {
     "data": {
      "text/plain": [
       "979"
      ]
     },
     "execution_count": 58,
     "metadata": {},
     "output_type": "execute_result"
    }
   ],
   "source": [
    "len(all_concepts_set)"
   ]
  },
  {
   "cell_type": "code",
   "execution_count": null,
   "metadata": {},
   "outputs": [],
   "source": []
  },
  {
   "cell_type": "code",
   "execution_count": null,
   "metadata": {},
   "outputs": [],
   "source": []
  },
  {
   "cell_type": "code",
   "execution_count": 54,
   "metadata": {},
   "outputs": [
    {
     "data": {
      "text/plain": [
       "array([[10., 10., 10., ...,  1.,  1.,  1.],\n",
       "       [ 1.,  1.,  1., ...,  1.,  1.,  1.],\n",
       "       [ 1.,  1.,  1., ...,  1.,  1.,  1.],\n",
       "       ...,\n",
       "       [ 1.,  1.,  1., ...,  1.,  1.,  1.],\n",
       "       [ 1.,  1.,  1., ...,  1.,  1.,  1.],\n",
       "       [ 1.,  1., 10., ..., 10., 10., 10.]])"
      ]
     },
     "execution_count": 54,
     "metadata": {},
     "output_type": "execute_result"
    }
   ],
   "source": [
    "import itertools\n",
    "\n",
    "all_concepts = []\n",
    "for v in concept_sets_sorted.values():\n",
    "    all_concepts += v\n",
    "\n",
    "num_concepts = sum(len(v) for v in concept_sets_sorted.values())\n",
    "concept_matrix = np.zeros((len(concepts_processed), len(concept_sets_sorted), num_concepts))\n",
    "\n",
    "with open('concepts/CUB/parts.txt', 'r') as fp:\n",
    "    all_parts = fp.read().splitlines()\n",
    "all_class_names = list(concepts_processed.keys())\n",
    "for class_idx, class_name in enumerate(all_class_names):\n",
    "    class_concepts = concepts_processed[class_name]\n",
    "    for part_idx, part_name in enumerate(all_parts):\n",
    "        cpt_indices = [all_concepts.index(cpt) for cpt in class_concepts[part_name]]\n",
    "        concept_matrix[class_idx, part_idx, cpt_indices] = 1\n",
    "\n",
    "weight_matrix = np.ones((len(all_parts), num_concepts))\n",
    "for part_idx, part_name in enumerate(all_parts):\n",
    "    part_concepts = concept_sets_sorted[part_name]\n",
    "    cpt_indices = [all_concepts.index(cpt) for cpt in part_concepts]\n",
    "    weight_matrix[part_idx, cpt_indices] = 50\n",
    "weight_matrix"
   ]
  },
  {
   "cell_type": "code",
   "execution_count": null,
   "metadata": {},
   "outputs": [],
   "source": []
  }
 ],
 "metadata": {
  "kernelspec": {
   "display_name": "research",
   "language": "python",
   "name": "python3"
  },
  "language_info": {
   "codemirror_mode": {
    "name": "ipython",
    "version": 3
   },
   "file_extension": ".py",
   "mimetype": "text/x-python",
   "name": "python",
   "nbconvert_exporter": "python",
   "pygments_lexer": "ipython3",
   "version": "3.11.8"
  }
 },
 "nbformat": 4,
 "nbformat_minor": 2
}
