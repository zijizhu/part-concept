{
 "cells": [
  {
   "cell_type": "code",
   "execution_count": 26,
   "metadata": {},
   "outputs": [],
   "source": [
    "import re\n",
    "import clip\n",
    "import copy\n",
    "import torch\n",
    "from torch import nn\n",
    "from PIL import Image\n",
    "from typing import Union\n",
    "from clip.model import CLIP, ModifiedResNet, AttentionPool2d\n",
    "\n",
    "device = torch.device('cpu')"
   ]
  },
  {
   "cell_type": "code",
   "execution_count": 10,
   "metadata": {},
   "outputs": [],
   "source": [
    "clip_model, img_transforms = clip.load('RN50', device=device)"
   ]
  },
  {
   "cell_type": "code",
   "execution_count": 23,
   "metadata": {},
   "outputs": [],
   "source": [
    "class CLIPModified(nn.Module):\n",
    "    def __init__(self, model: CLIP):\n",
    "        super(CLIPModified, self).__init__()\n",
    "        assert type(model.visual) == ModifiedResNet\n",
    "        assert type(model.visual.attnpool) == AttentionPool2d\n",
    "\n",
    "        image_model = copy.deepcopy(model.visual)\n",
    "        image_model.attnpool = nn.Identity()\n",
    "        self.model = image_model\n",
    "        self.attnpool = copy.deepcopy(model.visual.attnpool)\n",
    "\n",
    "    def forward(self, x: torch.Tensor):\n",
    "        f = self.model(x) # raw features without attn_pool\n",
    "        b, c, h, w = f.shape  # [BS, 2048, 7, 7]\n",
    "        g = self.attnpool(f)  # [BS, 1024]\n",
    "        x = f.permute(0, 2, 3, 1)  # [BS, 7, 7, 2048]\n",
    "        x = x.reshape(-1, c)  # [BS*7*7, 2048]\n",
    "        x = x[..., None, None]  # [BS*7*7, 2048, 1, 1]\n",
    "        x = x.expand(-1, -1, 7, 7)  # [BS*7*7, 2048, 7, 7]\n",
    "        x = self.attnpool(x)  # [BS*7*7, 1024]\n",
    "        x = x.reshape(b, h, w, -1)  # [BS, 7, 7, 1024]\n",
    "        x = x.permute(0, 3, 1, 2)  # [BS, 1024, 7, 7]\n",
    "        return f, g, x"
   ]
  },
  {
   "cell_type": "code",
   "execution_count": 24,
   "metadata": {},
   "outputs": [],
   "source": [
    "clip_modified = CLIPModified(clip_model)"
   ]
  },
  {
   "cell_type": "code",
   "execution_count": 25,
   "metadata": {},
   "outputs": [
    {
     "data": {
      "text/plain": [
       "(torch.Size([8, 2048, 7, 7]),\n",
       " torch.Size([8, 1024]),\n",
       " torch.Size([8, 1024, 7, 7]))"
      ]
     },
     "execution_count": 25,
     "metadata": {},
     "output_type": "execute_result"
    }
   ],
   "source": [
    "x = torch.randn(8, 3, 224, 224)\n",
    "f, g, x = clip_modified(x)\n",
    "f.shape, g.shape, x.shape"
   ]
  },
  {
   "cell_type": "code",
   "execution_count": null,
   "metadata": {},
   "outputs": [],
   "source": []
  }
 ],
 "metadata": {
  "kernelspec": {
   "display_name": "research",
   "language": "python",
   "name": "python3"
  },
  "language_info": {
   "codemirror_mode": {
    "name": "ipython",
    "version": 3
   },
   "file_extension": ".py",
   "mimetype": "text/x-python",
   "name": "python",
   "nbconvert_exporter": "python",
   "pygments_lexer": "ipython3",
   "version": "3.12.2"
  }
 },
 "nbformat": 4,
 "nbformat_minor": 2
}
