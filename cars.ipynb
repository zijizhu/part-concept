{
 "cells": [
  {
   "cell_type": "code",
   "execution_count": null,
   "metadata": {},
   "outputs": [],
   "source": []
  },
  {
   "cell_type": "code",
   "execution_count": 19,
   "metadata": {},
   "outputs": [],
   "source": [
    "import pickle as pkl\n",
    "import json\n",
    "with open('concepts/CARS/gpt_res_generation.pkl', 'rb') as fp:\n",
    "    gpt_res = pkl.load(file=fp)"
   ]
  },
  {
   "cell_type": "code",
   "execution_count": 21,
   "metadata": {},
   "outputs": [],
   "source": [
    "processed = dict()\n",
    "for res in gpt_res:\n",
    "    class_name = res['class_name']\n",
    "    concepts = json.loads(res['response'])\n",
    "    processed[class_name] = concepts"
   ]
  },
  {
   "cell_type": "code",
   "execution_count": 23,
   "metadata": {},
   "outputs": [],
   "source": [
    "with open('concepts/CARS/concepts_processed.json', 'w') as fp:\n",
    "    json.dump(processed, fp=fp)"
   ]
  },
  {
   "cell_type": "code",
   "execution_count": 2,
   "metadata": {},
   "outputs": [
    {
     "name": "stdout",
     "output_type": "stream",
     "text": [
      "The autoreload extension is already loaded. To reload it, use:\n",
      "  %reload_ext autoreload\n"
     ]
    }
   ],
   "source": [
    "import os\n",
    "import torch\n",
    "from torch import nn\n",
    "from PIL import Image\n",
    "import torch.nn.functional as F\n",
    "import matplotlib.pyplot as plt\n",
    "from torch.utils.data import DataLoader\n",
    "from torchvision.datasets import StanfordCars\n",
    "\n",
    "from clipseg_model import CLIPSeg\n",
    "from data.cub_parts_dataset import CUBPartsDataset, collate_fn\n",
    "\n",
    "%load_ext autoreload\n",
    "%autoreload 2"
   ]
  },
  {
   "cell_type": "code",
   "execution_count": 3,
   "metadata": {},
   "outputs": [],
   "source": [
    "def collate_fn(batch):\n",
    "    images, labels = list(zip(*batch))\n",
    "    return images, torch.tensor(labels)\n",
    "dataset = StanfordCars(root='datasets/CARS', split='test', download=True)\n",
    "dataloader_test = DataLoader(dataset=dataset, batch_size=4, shuffle=False, collate_fn=collate_fn)\n",
    "dataloader_test_iter = iter(dataloader_test)"
   ]
  },
  {
   "cell_type": "code",
   "execution_count": 6,
   "metadata": {},
   "outputs": [
    {
     "name": "stdout",
     "output_type": "stream",
     "text": [
      "AM General Hummer SUV 2000\n",
      "Acura RL Sedan 2012\n",
      "Acura TL Sedan 2012\n",
      "Acura TL Type-S 2008\n",
      "Acura TSX Sedan 2012\n",
      "Acura Integra Type R 2001\n",
      "Acura ZDX Hatchback 2012\n",
      "Aston Martin V8 Vantage Convertible 2012\n",
      "Aston Martin V8 Vantage Coupe 2012\n",
      "Aston Martin Virage Convertible 2012\n",
      "Aston Martin Virage Coupe 2012\n",
      "Audi RS 4 Convertible 2008\n",
      "Audi A5 Coupe 2012\n",
      "Audi TTS Coupe 2012\n",
      "Audi R8 Coupe 2012\n",
      "Audi V8 Sedan 1994\n",
      "Audi 100 Sedan 1994\n",
      "Audi 100 Wagon 1994\n",
      "Audi TT Hatchback 2011\n",
      "Audi S6 Sedan 2011\n",
      "Audi S5 Convertible 2012\n",
      "Audi S5 Coupe 2012\n",
      "Audi S4 Sedan 2012\n",
      "Audi S4 Sedan 2007\n",
      "Audi TT RS Coupe 2012\n",
      "BMW ActiveHybrid 5 Sedan 2012\n",
      "BMW 1 Series Convertible 2012\n",
      "BMW 1 Series Coupe 2012\n",
      "BMW 3 Series Sedan 2012\n",
      "BMW 3 Series Wagon 2012\n",
      "BMW 6 Series Convertible 2007\n",
      "BMW X5 SUV 2007\n",
      "BMW X6 SUV 2012\n",
      "BMW M3 Coupe 2012\n",
      "BMW M5 Sedan 2010\n",
      "BMW M6 Convertible 2010\n",
      "BMW X3 SUV 2012\n",
      "BMW Z4 Convertible 2012\n",
      "Bentley Continental Supersports Conv. Convertible 2012\n",
      "Bentley Arnage Sedan 2009\n",
      "Bentley Mulsanne Sedan 2011\n",
      "Bentley Continental GT Coupe 2012\n",
      "Bentley Continental GT Coupe 2007\n",
      "Bentley Continental Flying Spur Sedan 2007\n",
      "Bugatti Veyron 16.4 Convertible 2009\n",
      "Bugatti Veyron 16.4 Coupe 2009\n",
      "Buick Regal GS 2012\n",
      "Buick Rainier SUV 2007\n",
      "Buick Verano Sedan 2012\n",
      "Buick Enclave SUV 2012\n",
      "Cadillac CTS-V Sedan 2012\n",
      "Cadillac SRX SUV 2012\n",
      "Cadillac Escalade EXT Crew Cab 2007\n",
      "Chevrolet Silverado 1500 Hybrid Crew Cab 2012\n",
      "Chevrolet Corvette Convertible 2012\n",
      "Chevrolet Corvette ZR1 2012\n",
      "Chevrolet Corvette Ron Fellows Edition Z06 2007\n",
      "Chevrolet Traverse SUV 2012\n",
      "Chevrolet Camaro Convertible 2012\n",
      "Chevrolet HHR SS 2010\n",
      "Chevrolet Impala Sedan 2007\n",
      "Chevrolet Tahoe Hybrid SUV 2012\n",
      "Chevrolet Sonic Sedan 2012\n",
      "Chevrolet Express Cargo Van 2007\n",
      "Chevrolet Avalanche Crew Cab 2012\n",
      "Chevrolet Cobalt SS 2010\n",
      "Chevrolet Malibu Hybrid Sedan 2010\n",
      "Chevrolet TrailBlazer SS 2009\n",
      "Chevrolet Silverado 2500HD Regular Cab 2012\n",
      "Chevrolet Silverado 1500 Classic Extended Cab 2007\n",
      "Chevrolet Express Van 2007\n",
      "Chevrolet Monte Carlo Coupe 2007\n",
      "Chevrolet Malibu Sedan 2007\n",
      "Chevrolet Silverado 1500 Extended Cab 2012\n",
      "Chevrolet Silverado 1500 Regular Cab 2012\n",
      "Chrysler Aspen SUV 2009\n",
      "Chrysler Sebring Convertible 2010\n",
      "Chrysler Town and Country Minivan 2012\n",
      "Chrysler 300 SRT-8 2010\n",
      "Chrysler Crossfire Convertible 2008\n",
      "Chrysler PT Cruiser Convertible 2008\n",
      "Daewoo Nubira Wagon 2002\n",
      "Dodge Caliber Wagon 2012\n",
      "Dodge Caliber Wagon 2007\n",
      "Dodge Caravan Minivan 1997\n",
      "Dodge Ram Pickup 3500 Crew Cab 2010\n",
      "Dodge Ram Pickup 3500 Quad Cab 2009\n",
      "Dodge Sprinter Cargo Van 2009\n",
      "Dodge Journey SUV 2012\n",
      "Dodge Dakota Crew Cab 2010\n",
      "Dodge Dakota Club Cab 2007\n",
      "Dodge Magnum Wagon 2008\n",
      "Dodge Challenger SRT8 2011\n",
      "Dodge Durango SUV 2012\n",
      "Dodge Durango SUV 2007\n",
      "Dodge Charger Sedan 2012\n",
      "Dodge Charger SRT-8 2009\n",
      "Eagle Talon Hatchback 1998\n",
      "FIAT 500 Abarth 2012\n",
      "FIAT 500 Convertible 2012\n",
      "Ferrari FF Coupe 2012\n",
      "Ferrari California Convertible 2012\n",
      "Ferrari 458 Italia Convertible 2012\n",
      "Ferrari 458 Italia Coupe 2012\n",
      "Fisker Karma Sedan 2012\n",
      "Ford F-450 Super Duty Crew Cab 2012\n",
      "Ford Mustang Convertible 2007\n",
      "Ford Freestar Minivan 2007\n",
      "Ford Expedition EL SUV 2009\n",
      "Ford Edge SUV 2012\n",
      "Ford Ranger SuperCab 2011\n",
      "Ford GT Coupe 2006\n",
      "Ford F-150 Regular Cab 2012\n",
      "Ford F-150 Regular Cab 2007\n",
      "Ford Focus Sedan 2007\n",
      "Ford E-Series Wagon Van 2012\n",
      "Ford Fiesta Sedan 2012\n",
      "GMC Terrain SUV 2012\n",
      "GMC Savana Van 2012\n",
      "GMC Yukon Hybrid SUV 2012\n",
      "GMC Acadia SUV 2012\n",
      "GMC Canyon Extended Cab 2012\n",
      "Geo Metro Convertible 1993\n",
      "HUMMER H3T Crew Cab 2010\n",
      "HUMMER H2 SUT Crew Cab 2009\n",
      "Honda Odyssey Minivan 2012\n",
      "Honda Odyssey Minivan 2007\n",
      "Honda Accord Coupe 2012\n",
      "Honda Accord Sedan 2012\n",
      "Hyundai Veloster Hatchback 2012\n",
      "Hyundai Santa Fe SUV 2012\n",
      "Hyundai Tucson SUV 2012\n",
      "Hyundai Veracruz SUV 2012\n",
      "Hyundai Sonata Hybrid Sedan 2012\n",
      "Hyundai Elantra Sedan 2007\n",
      "Hyundai Accent Sedan 2012\n",
      "Hyundai Genesis Sedan 2012\n",
      "Hyundai Sonata Sedan 2012\n",
      "Hyundai Elantra Touring Hatchback 2012\n",
      "Hyundai Azera Sedan 2012\n",
      "Infiniti G Coupe IPL 2012\n",
      "Infiniti QX56 SUV 2011\n",
      "Isuzu Ascender SUV 2008\n",
      "Jaguar XK XKR 2012\n",
      "Jeep Patriot SUV 2012\n",
      "Jeep Wrangler SUV 2012\n",
      "Jeep Liberty SUV 2012\n",
      "Jeep Grand Cherokee SUV 2012\n",
      "Jeep Compass SUV 2012\n",
      "Lamborghini Reventon Coupe 2008\n",
      "Lamborghini Aventador Coupe 2012\n",
      "Lamborghini Gallardo LP 570-4 Superleggera 2012\n",
      "Lamborghini Diablo Coupe 2001\n",
      "Land Rover Range Rover SUV 2012\n",
      "Land Rover LR2 SUV 2012\n",
      "Lincoln Town Car Sedan 2011\n",
      "MINI Cooper Roadster Convertible 2012\n",
      "Maybach Landaulet Convertible 2012\n",
      "Mazda Tribute SUV 2011\n",
      "McLaren MP4-12C Coupe 2012\n",
      "Mercedes-Benz 300-Class Convertible 1993\n",
      "Mercedes-Benz C-Class Sedan 2012\n",
      "Mercedes-Benz SL-Class Coupe 2009\n",
      "Mercedes-Benz E-Class Sedan 2012\n",
      "Mercedes-Benz S-Class Sedan 2012\n",
      "Mercedes-Benz Sprinter Van 2012\n",
      "Mitsubishi Lancer Sedan 2012\n",
      "Nissan Leaf Hatchback 2012\n",
      "Nissan NV Passenger Van 2012\n",
      "Nissan Juke Hatchback 2012\n",
      "Nissan 240SX Coupe 1998\n",
      "Plymouth Neon Coupe 1999\n",
      "Porsche Panamera Sedan 2012\n",
      "Ram C/V Cargo Van Minivan 2012\n",
      "Rolls-Royce Phantom Drophead Coupe Convertible 2012\n",
      "Rolls-Royce Ghost Sedan 2012\n",
      "Rolls-Royce Phantom Sedan 2012\n",
      "Scion xD Hatchback 2012\n",
      "Spyker C8 Convertible 2009\n",
      "Spyker C8 Coupe 2009\n",
      "Suzuki Aerio Sedan 2007\n",
      "Suzuki Kizashi Sedan 2012\n",
      "Suzuki SX4 Hatchback 2012\n",
      "Suzuki SX4 Sedan 2012\n",
      "Tesla Model S Sedan 2012\n",
      "Toyota Sequoia SUV 2012\n",
      "Toyota Camry Sedan 2012\n",
      "Toyota Corolla Sedan 2012\n",
      "Toyota 4Runner SUV 2012\n",
      "Volkswagen Golf Hatchback 2012\n",
      "Volkswagen Golf Hatchback 1991\n",
      "Volkswagen Beetle Hatchback 2012\n",
      "Volvo C30 Hatchback 2012\n",
      "Volvo 240 Sedan 1993\n",
      "Volvo XC90 SUV 2007\n",
      "smart fortwo Convertible 2012\n"
     ]
    }
   ],
   "source": [
    "for c in dataset.classes:\n",
    "    print(c)"
   ]
  },
  {
   "cell_type": "code",
   "execution_count": 21,
   "metadata": {},
   "outputs": [
    {
     "name": "stdout",
     "output_type": "stream",
     "text": [
      "<class 'clipseg.configuration_clipseg.CLIPSegConfig'> 512\n"
     ]
    },
    {
     "name": "stderr",
     "output_type": "stream",
     "text": [
      "Some weights of CLIPSegForImageSegmentation were not initialized from the model checkpoint at CIDAS/clipseg-rd64-refined and are newly initialized: ['non_object_embedding', 'text_adapter.fc.0.weight', 'text_adapter.fc.2.weight', 'tunable_linear.weight', 'visual_adapter.fc.0.weight', 'visual_adapter.fc.2.weight']\n",
      "You should probably TRAIN this model on a down-stream task to be able to use it for predictions and inference.\n"
     ]
    }
   ],
   "source": [
    "from clipseg_train import load_concepts\n",
    "state_dict = torch.load('checkpoints/clipseg_pascub_ft.pt')\n",
    "\n",
    "with open('concepts/CUB/parts.txt') as fp:\n",
    "    part_texts = fp.read().splitlines()\n",
    "\n",
    "concept_sets = load_concepts()\n",
    "\n",
    "model = CLIPSeg(\n",
    "    part_texts=part_texts,\n",
    "    concepts_dict=concept_sets,\n",
    "    meta_category_text='bird',\n",
    "    k=50,\n",
    "    state_dict=state_dict\n",
    ")"
   ]
  },
  {
   "cell_type": "code",
   "execution_count": 28,
   "metadata": {},
   "outputs": [
    {
     "ename": "RuntimeError",
     "evalue": "Expected all tensors to be on the same device, but found at least two devices, cpu and cuda:0! (when checking argument for argument mat2 in method wrapper_CUDA_mm)",
     "output_type": "error",
     "traceback": [
      "\u001b[0;31m---------------------------------------------------------------------------\u001b[0m",
      "\u001b[0;31mRuntimeError\u001b[0m                              Traceback (most recent call last)",
      "Cell \u001b[0;32mIn[28], line 7\u001b[0m\n\u001b[1;32m      5\u001b[0m imgs, labels \u001b[38;5;241m=\u001b[39m batch\n\u001b[1;32m      6\u001b[0m imgs \u001b[38;5;241m=\u001b[39m \u001b[38;5;28mlist\u001b[39m(imgs)\n\u001b[0;32m----> 7\u001b[0m results \u001b[38;5;241m=\u001b[39m \u001b[43mmodel\u001b[49m\u001b[43m(\u001b[49m\u001b[43mimgs\u001b[49m\u001b[43m,\u001b[49m\u001b[43m \u001b[49m\u001b[43mlabels\u001b[49m\u001b[43m)\u001b[49m\n",
      "File \u001b[0;32m~/miniforge3/envs/research/lib/python3.11/site-packages/torch/nn/modules/module.py:1511\u001b[0m, in \u001b[0;36mModule._wrapped_call_impl\u001b[0;34m(self, *args, **kwargs)\u001b[0m\n\u001b[1;32m   1509\u001b[0m     \u001b[38;5;28;01mreturn\u001b[39;00m \u001b[38;5;28mself\u001b[39m\u001b[38;5;241m.\u001b[39m_compiled_call_impl(\u001b[38;5;241m*\u001b[39margs, \u001b[38;5;241m*\u001b[39m\u001b[38;5;241m*\u001b[39mkwargs)  \u001b[38;5;66;03m# type: ignore[misc]\u001b[39;00m\n\u001b[1;32m   1510\u001b[0m \u001b[38;5;28;01melse\u001b[39;00m:\n\u001b[0;32m-> 1511\u001b[0m     \u001b[38;5;28;01mreturn\u001b[39;00m \u001b[38;5;28;43mself\u001b[39;49m\u001b[38;5;241;43m.\u001b[39;49m\u001b[43m_call_impl\u001b[49m\u001b[43m(\u001b[49m\u001b[38;5;241;43m*\u001b[39;49m\u001b[43margs\u001b[49m\u001b[43m,\u001b[49m\u001b[43m \u001b[49m\u001b[38;5;241;43m*\u001b[39;49m\u001b[38;5;241;43m*\u001b[39;49m\u001b[43mkwargs\u001b[49m\u001b[43m)\u001b[49m\n",
      "File \u001b[0;32m~/miniforge3/envs/research/lib/python3.11/site-packages/torch/nn/modules/module.py:1520\u001b[0m, in \u001b[0;36mModule._call_impl\u001b[0;34m(self, *args, **kwargs)\u001b[0m\n\u001b[1;32m   1515\u001b[0m \u001b[38;5;66;03m# If we don't have any hooks, we want to skip the rest of the logic in\u001b[39;00m\n\u001b[1;32m   1516\u001b[0m \u001b[38;5;66;03m# this function, and just call forward.\u001b[39;00m\n\u001b[1;32m   1517\u001b[0m \u001b[38;5;28;01mif\u001b[39;00m \u001b[38;5;129;01mnot\u001b[39;00m (\u001b[38;5;28mself\u001b[39m\u001b[38;5;241m.\u001b[39m_backward_hooks \u001b[38;5;129;01mor\u001b[39;00m \u001b[38;5;28mself\u001b[39m\u001b[38;5;241m.\u001b[39m_backward_pre_hooks \u001b[38;5;129;01mor\u001b[39;00m \u001b[38;5;28mself\u001b[39m\u001b[38;5;241m.\u001b[39m_forward_hooks \u001b[38;5;129;01mor\u001b[39;00m \u001b[38;5;28mself\u001b[39m\u001b[38;5;241m.\u001b[39m_forward_pre_hooks\n\u001b[1;32m   1518\u001b[0m         \u001b[38;5;129;01mor\u001b[39;00m _global_backward_pre_hooks \u001b[38;5;129;01mor\u001b[39;00m _global_backward_hooks\n\u001b[1;32m   1519\u001b[0m         \u001b[38;5;129;01mor\u001b[39;00m _global_forward_hooks \u001b[38;5;129;01mor\u001b[39;00m _global_forward_pre_hooks):\n\u001b[0;32m-> 1520\u001b[0m     \u001b[38;5;28;01mreturn\u001b[39;00m \u001b[43mforward_call\u001b[49m\u001b[43m(\u001b[49m\u001b[38;5;241;43m*\u001b[39;49m\u001b[43margs\u001b[49m\u001b[43m,\u001b[49m\u001b[43m \u001b[49m\u001b[38;5;241;43m*\u001b[39;49m\u001b[38;5;241;43m*\u001b[39;49m\u001b[43mkwargs\u001b[49m\u001b[43m)\u001b[49m\n\u001b[1;32m   1522\u001b[0m \u001b[38;5;28;01mtry\u001b[39;00m:\n\u001b[1;32m   1523\u001b[0m     result \u001b[38;5;241m=\u001b[39m \u001b[38;5;28;01mNone\u001b[39;00m\n",
      "File \u001b[0;32m~/Projects/part-concept/clipseg_model.py:144\u001b[0m, in \u001b[0;36mCLIPSeg.forward\u001b[0;34m(self, images, targets)\u001b[0m\n\u001b[1;32m    141\u001b[0m     \u001b[38;5;28;01mreturn\u001b[39;00m ce_loss, prototype_loss, class_logits\n\u001b[1;32m    142\u001b[0m \u001b[38;5;66;03m# Stage 2 forward\u001b[39;00m\n\u001b[1;32m    143\u001b[0m \u001b[38;5;28;01melse\u001b[39;00m:\n\u001b[0;32m--> 144\u001b[0m     concepts_projected \u001b[38;5;241m=\u001b[39m \u001b[38;5;28;43mself\u001b[39;49m\u001b[38;5;241;43m.\u001b[39;49m\u001b[43mproj\u001b[49m\u001b[43m(\u001b[49m\u001b[38;5;28;43mself\u001b[39;49m\u001b[38;5;241;43m.\u001b[39;49m\u001b[43mselected_concept_embeddings\u001b[49m\u001b[43m)\u001b[49m\u001b[38;5;241m.\u001b[39mpermute(\u001b[38;5;241m0\u001b[39m, \u001b[38;5;241m2\u001b[39m, \u001b[38;5;241m1\u001b[39m) \u001b[38;5;66;03m# shape: [num_parts, reduce_dim, k]\u001b[39;00m\n\u001b[1;32m    145\u001b[0m     concept_logits \u001b[38;5;241m=\u001b[39m torch\u001b[38;5;241m.\u001b[39mbmm(cls_tokens, concepts_projected)\u001b[38;5;241m.\u001b[39mpermute(\u001b[38;5;241m1\u001b[39m, \u001b[38;5;241m0\u001b[39m, \u001b[38;5;241m2\u001b[39m)\u001b[38;5;241m.\u001b[39mcontiguous()  \u001b[38;5;66;03m# shape: [bs, num_parts, k]\u001b[39;00m\n\u001b[1;32m    146\u001b[0m     concept_logits_flatten \u001b[38;5;241m=\u001b[39m concept_logits\u001b[38;5;241m.\u001b[39mview(bs, \u001b[38;5;28mlen\u001b[39m(\u001b[38;5;28mself\u001b[39m\u001b[38;5;241m.\u001b[39mpart_texts) \u001b[38;5;241m*\u001b[39m \u001b[38;5;28mself\u001b[39m\u001b[38;5;241m.\u001b[39mk)  \u001b[38;5;66;03m# shape: [bs, num_parts*k]\u001b[39;00m\n",
      "File \u001b[0;32m~/miniforge3/envs/research/lib/python3.11/site-packages/torch/nn/modules/module.py:1511\u001b[0m, in \u001b[0;36mModule._wrapped_call_impl\u001b[0;34m(self, *args, **kwargs)\u001b[0m\n\u001b[1;32m   1509\u001b[0m     \u001b[38;5;28;01mreturn\u001b[39;00m \u001b[38;5;28mself\u001b[39m\u001b[38;5;241m.\u001b[39m_compiled_call_impl(\u001b[38;5;241m*\u001b[39margs, \u001b[38;5;241m*\u001b[39m\u001b[38;5;241m*\u001b[39mkwargs)  \u001b[38;5;66;03m# type: ignore[misc]\u001b[39;00m\n\u001b[1;32m   1510\u001b[0m \u001b[38;5;28;01melse\u001b[39;00m:\n\u001b[0;32m-> 1511\u001b[0m     \u001b[38;5;28;01mreturn\u001b[39;00m \u001b[38;5;28;43mself\u001b[39;49m\u001b[38;5;241;43m.\u001b[39;49m\u001b[43m_call_impl\u001b[49m\u001b[43m(\u001b[49m\u001b[38;5;241;43m*\u001b[39;49m\u001b[43margs\u001b[49m\u001b[43m,\u001b[49m\u001b[43m \u001b[49m\u001b[38;5;241;43m*\u001b[39;49m\u001b[38;5;241;43m*\u001b[39;49m\u001b[43mkwargs\u001b[49m\u001b[43m)\u001b[49m\n",
      "File \u001b[0;32m~/miniforge3/envs/research/lib/python3.11/site-packages/torch/nn/modules/module.py:1520\u001b[0m, in \u001b[0;36mModule._call_impl\u001b[0;34m(self, *args, **kwargs)\u001b[0m\n\u001b[1;32m   1515\u001b[0m \u001b[38;5;66;03m# If we don't have any hooks, we want to skip the rest of the logic in\u001b[39;00m\n\u001b[1;32m   1516\u001b[0m \u001b[38;5;66;03m# this function, and just call forward.\u001b[39;00m\n\u001b[1;32m   1517\u001b[0m \u001b[38;5;28;01mif\u001b[39;00m \u001b[38;5;129;01mnot\u001b[39;00m (\u001b[38;5;28mself\u001b[39m\u001b[38;5;241m.\u001b[39m_backward_hooks \u001b[38;5;129;01mor\u001b[39;00m \u001b[38;5;28mself\u001b[39m\u001b[38;5;241m.\u001b[39m_backward_pre_hooks \u001b[38;5;129;01mor\u001b[39;00m \u001b[38;5;28mself\u001b[39m\u001b[38;5;241m.\u001b[39m_forward_hooks \u001b[38;5;129;01mor\u001b[39;00m \u001b[38;5;28mself\u001b[39m\u001b[38;5;241m.\u001b[39m_forward_pre_hooks\n\u001b[1;32m   1518\u001b[0m         \u001b[38;5;129;01mor\u001b[39;00m _global_backward_pre_hooks \u001b[38;5;129;01mor\u001b[39;00m _global_backward_hooks\n\u001b[1;32m   1519\u001b[0m         \u001b[38;5;129;01mor\u001b[39;00m _global_forward_hooks \u001b[38;5;129;01mor\u001b[39;00m _global_forward_pre_hooks):\n\u001b[0;32m-> 1520\u001b[0m     \u001b[38;5;28;01mreturn\u001b[39;00m \u001b[43mforward_call\u001b[49m\u001b[43m(\u001b[49m\u001b[38;5;241;43m*\u001b[39;49m\u001b[43margs\u001b[49m\u001b[43m,\u001b[49m\u001b[43m \u001b[49m\u001b[38;5;241;43m*\u001b[39;49m\u001b[38;5;241;43m*\u001b[39;49m\u001b[43mkwargs\u001b[49m\u001b[43m)\u001b[49m\n\u001b[1;32m   1522\u001b[0m \u001b[38;5;28;01mtry\u001b[39;00m:\n\u001b[1;32m   1523\u001b[0m     result \u001b[38;5;241m=\u001b[39m \u001b[38;5;28;01mNone\u001b[39;00m\n",
      "File \u001b[0;32m~/miniforge3/envs/research/lib/python3.11/site-packages/torch/nn/modules/container.py:217\u001b[0m, in \u001b[0;36mSequential.forward\u001b[0;34m(self, input)\u001b[0m\n\u001b[1;32m    215\u001b[0m \u001b[38;5;28;01mdef\u001b[39;00m \u001b[38;5;21mforward\u001b[39m(\u001b[38;5;28mself\u001b[39m, \u001b[38;5;28minput\u001b[39m):\n\u001b[1;32m    216\u001b[0m     \u001b[38;5;28;01mfor\u001b[39;00m module \u001b[38;5;129;01min\u001b[39;00m \u001b[38;5;28mself\u001b[39m:\n\u001b[0;32m--> 217\u001b[0m         \u001b[38;5;28minput\u001b[39m \u001b[38;5;241m=\u001b[39m \u001b[43mmodule\u001b[49m\u001b[43m(\u001b[49m\u001b[38;5;28;43minput\u001b[39;49m\u001b[43m)\u001b[49m\n\u001b[1;32m    218\u001b[0m     \u001b[38;5;28;01mreturn\u001b[39;00m \u001b[38;5;28minput\u001b[39m\n",
      "File \u001b[0;32m~/miniforge3/envs/research/lib/python3.11/site-packages/torch/nn/modules/module.py:1511\u001b[0m, in \u001b[0;36mModule._wrapped_call_impl\u001b[0;34m(self, *args, **kwargs)\u001b[0m\n\u001b[1;32m   1509\u001b[0m     \u001b[38;5;28;01mreturn\u001b[39;00m \u001b[38;5;28mself\u001b[39m\u001b[38;5;241m.\u001b[39m_compiled_call_impl(\u001b[38;5;241m*\u001b[39margs, \u001b[38;5;241m*\u001b[39m\u001b[38;5;241m*\u001b[39mkwargs)  \u001b[38;5;66;03m# type: ignore[misc]\u001b[39;00m\n\u001b[1;32m   1510\u001b[0m \u001b[38;5;28;01melse\u001b[39;00m:\n\u001b[0;32m-> 1511\u001b[0m     \u001b[38;5;28;01mreturn\u001b[39;00m \u001b[38;5;28;43mself\u001b[39;49m\u001b[38;5;241;43m.\u001b[39;49m\u001b[43m_call_impl\u001b[49m\u001b[43m(\u001b[49m\u001b[38;5;241;43m*\u001b[39;49m\u001b[43margs\u001b[49m\u001b[43m,\u001b[49m\u001b[43m \u001b[49m\u001b[38;5;241;43m*\u001b[39;49m\u001b[38;5;241;43m*\u001b[39;49m\u001b[43mkwargs\u001b[49m\u001b[43m)\u001b[49m\n",
      "File \u001b[0;32m~/miniforge3/envs/research/lib/python3.11/site-packages/torch/nn/modules/module.py:1520\u001b[0m, in \u001b[0;36mModule._call_impl\u001b[0;34m(self, *args, **kwargs)\u001b[0m\n\u001b[1;32m   1515\u001b[0m \u001b[38;5;66;03m# If we don't have any hooks, we want to skip the rest of the logic in\u001b[39;00m\n\u001b[1;32m   1516\u001b[0m \u001b[38;5;66;03m# this function, and just call forward.\u001b[39;00m\n\u001b[1;32m   1517\u001b[0m \u001b[38;5;28;01mif\u001b[39;00m \u001b[38;5;129;01mnot\u001b[39;00m (\u001b[38;5;28mself\u001b[39m\u001b[38;5;241m.\u001b[39m_backward_hooks \u001b[38;5;129;01mor\u001b[39;00m \u001b[38;5;28mself\u001b[39m\u001b[38;5;241m.\u001b[39m_backward_pre_hooks \u001b[38;5;129;01mor\u001b[39;00m \u001b[38;5;28mself\u001b[39m\u001b[38;5;241m.\u001b[39m_forward_hooks \u001b[38;5;129;01mor\u001b[39;00m \u001b[38;5;28mself\u001b[39m\u001b[38;5;241m.\u001b[39m_forward_pre_hooks\n\u001b[1;32m   1518\u001b[0m         \u001b[38;5;129;01mor\u001b[39;00m _global_backward_pre_hooks \u001b[38;5;129;01mor\u001b[39;00m _global_backward_hooks\n\u001b[1;32m   1519\u001b[0m         \u001b[38;5;129;01mor\u001b[39;00m _global_forward_hooks \u001b[38;5;129;01mor\u001b[39;00m _global_forward_pre_hooks):\n\u001b[0;32m-> 1520\u001b[0m     \u001b[38;5;28;01mreturn\u001b[39;00m \u001b[43mforward_call\u001b[49m\u001b[43m(\u001b[49m\u001b[38;5;241;43m*\u001b[39;49m\u001b[43margs\u001b[49m\u001b[43m,\u001b[49m\u001b[43m \u001b[49m\u001b[38;5;241;43m*\u001b[39;49m\u001b[38;5;241;43m*\u001b[39;49m\u001b[43mkwargs\u001b[49m\u001b[43m)\u001b[49m\n\u001b[1;32m   1522\u001b[0m \u001b[38;5;28;01mtry\u001b[39;00m:\n\u001b[1;32m   1523\u001b[0m     result \u001b[38;5;241m=\u001b[39m \u001b[38;5;28;01mNone\u001b[39;00m\n",
      "File \u001b[0;32m~/miniforge3/envs/research/lib/python3.11/site-packages/torch/nn/modules/linear.py:116\u001b[0m, in \u001b[0;36mLinear.forward\u001b[0;34m(self, input)\u001b[0m\n\u001b[1;32m    115\u001b[0m \u001b[38;5;28;01mdef\u001b[39;00m \u001b[38;5;21mforward\u001b[39m(\u001b[38;5;28mself\u001b[39m, \u001b[38;5;28minput\u001b[39m: Tensor) \u001b[38;5;241m-\u001b[39m\u001b[38;5;241m>\u001b[39m Tensor:\n\u001b[0;32m--> 116\u001b[0m     \u001b[38;5;28;01mreturn\u001b[39;00m \u001b[43mF\u001b[49m\u001b[38;5;241;43m.\u001b[39;49m\u001b[43mlinear\u001b[49m\u001b[43m(\u001b[49m\u001b[38;5;28;43minput\u001b[39;49m\u001b[43m,\u001b[49m\u001b[43m \u001b[49m\u001b[38;5;28;43mself\u001b[39;49m\u001b[38;5;241;43m.\u001b[39;49m\u001b[43mweight\u001b[49m\u001b[43m,\u001b[49m\u001b[43m \u001b[49m\u001b[38;5;28;43mself\u001b[39;49m\u001b[38;5;241;43m.\u001b[39;49m\u001b[43mbias\u001b[49m\u001b[43m)\u001b[49m\n",
      "\u001b[0;31mRuntimeError\u001b[0m: Expected all tensors to be on the same device, but found at least two devices, cpu and cuda:0! (when checking argument for argument mat2 in method wrapper_CUDA_mm)"
     ]
    }
   ],
   "source": [
    "batch = next(dataloader_test_iter)\n",
    "batch\n",
    "model.train()\n",
    "with torch.no_grad():\n",
    "    imgs, labels = batch\n",
    "    imgs = list(imgs)\n",
    "    results = model(imgs, labels)"
   ]
  },
  {
   "cell_type": "code",
   "execution_count": 32,
   "metadata": {},
   "outputs": [
    {
     "name": "stdout",
     "output_type": "stream",
     "text": [
      "hah\n"
     ]
    }
   ],
   "source": [
    "if torch.sum(torch.zeros((100, 100))) == 0:\n",
    "    print('hah')"
   ]
  },
  {
   "cell_type": "code",
   "execution_count": null,
   "metadata": {},
   "outputs": [],
   "source": []
  }
 ],
 "metadata": {
  "kernelspec": {
   "display_name": "research",
   "language": "python",
   "name": "python3"
  },
  "language_info": {
   "codemirror_mode": {
    "name": "ipython",
    "version": 3
   },
   "file_extension": ".py",
   "mimetype": "text/x-python",
   "name": "python",
   "nbconvert_exporter": "python",
   "pygments_lexer": "ipython3",
   "version": "3.11.8"
  }
 },
 "nbformat": 4,
 "nbformat_minor": 2
}
