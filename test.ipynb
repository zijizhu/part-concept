{
 "cells": [
  {
   "cell_type": "code",
   "execution_count": 1,
   "metadata": {},
   "outputs": [
    {
     "name": "stderr",
     "output_type": "stream",
     "text": [
      "Some weights of CLIPSegForImageSegmentation were not initialized from the model checkpoint at CIDAS/clipseg-rd64-refined and are newly initialized: ['non_object_embedding', 'text_adapter.fc.0.weight', 'text_adapter.fc.2.weight', 'tunable_linear.weight', 'visual_adapter.fc.0.weight', 'visual_adapter.fc.2.weight']\n",
      "You should probably TRAIN this model on a down-stream task to be able to use it for predictions and inference.\n"
     ]
    },
    {
     "name": "stdout",
     "output_type": "stream",
     "text": [
      "<class 'clipseg.configuration_clipseg.CLIPSegConfig'> 512\n"
     ]
    },
    {
     "data": {
      "text/plain": [
       "<All keys matched successfully>"
      ]
     },
     "execution_count": 1,
     "metadata": {},
     "output_type": "execute_result"
    }
   ],
   "source": [
    "import os\n",
    "import torch\n",
    "from torch import nn\n",
    "from PIL import Image\n",
    "import torch.nn.functional as F\n",
    "import matplotlib.pyplot as plt\n",
    "from torch.utils.data import DataLoader\n",
    "\n",
    "from clipseg_model import CLIPSeg\n",
    "from data.cub_parts_dataset import CUBPartsDataset, collate_fn\n",
    "from data.cub_dataset import build_datasets, collate_fn\n",
    "\n",
    "%load_ext autoreload\n",
    "%autoreload 2\n",
    "\n",
    "model = CLIPSeg()\n",
    "state_dict = torch.load('checkpoints/clipseg_pascub_ft.pt', map_location='cpu')\n",
    "model.load_state_dict(state_dict)"
   ]
  },
  {
   "cell_type": "code",
   "execution_count": 2,
   "metadata": {},
   "outputs": [],
   "source": [
    "# dataset_test = CUBPartsDataset('datasets/PASCUB', split='test')\n",
    "# dataloader_test = DataLoader(dataset=dataset_test, batch_size=2, shuffle=False, collate_fn=collate_fn)\n",
    "# dataloader_test_iter = iter(dataloader_test)\n",
    "\n",
    "(dataset_train, dataset_val, dataset_test), attr_indices, class_attrs_df = build_datasets(\n",
    "    dataset_dir=os.path.join('datasets', 'CUB'),\n",
    "    attr_subset='cbm',\n",
    "    use_class_level_attr=True,\n",
    "    use_transforms=False\n",
    ")\n",
    "\n",
    "dataloader_train = DataLoader(dataset_train, collate_fn=collate_fn, batch_size=4, shuffle=True)\n",
    "dataloader_train_iter = iter(dataloader_train)"
   ]
  },
  {
   "cell_type": "code",
   "execution_count": 3,
   "metadata": {},
   "outputs": [
    {
     "name": "stdout",
     "output_type": "stream",
     "text": [
      "torch.Size([32, 485, 64]) torch.Size([232, 485, 64])\n",
      "torch.Size([4, 7, 64]) torch.Size([4, 57, 64])\n",
      "torch.float32\n",
      "torch.Size([4, 7, 57]) torch.Size([4, 7, 57])\n"
     ]
    }
   ],
   "source": [
    "batch = next(dataloader_train_iter)\n",
    "im_ids, imgs, class_gts, contrastive_gts = batch\n",
    "contrastive_gts = contrastive_gts.to('cuda')\n",
    "model.train()\n",
    "with torch.no_grad():\n",
    "    model(imgs, contrastive_gts)"
   ]
  },
  {
   "cell_type": "code",
   "execution_count": 4,
   "metadata": {},
   "outputs": [
    {
     "data": {
      "text/plain": [
       "tensor([1.0000])"
      ]
     },
     "execution_count": 4,
     "metadata": {},
     "output_type": "execute_result"
    }
   ],
   "source": [
    "F.cosine_similarity(torch.tensor([[1,2,3]], dtype=torch.float32), torch.tensor([[1,2,3]], dtype=torch.float32))"
   ]
  },
  {
   "cell_type": "code",
   "execution_count": 5,
   "metadata": {},
   "outputs": [
    {
     "data": {
      "text/plain": [
       "tensor(1)"
      ]
     },
     "execution_count": 5,
     "metadata": {},
     "output_type": "execute_result"
    }
   ],
   "source": [
    "a = torch.stack([torch.full((485, 768), i) for i in range(4)])\n",
    "a = a.unsqueeze(1).repeat(1, 8, 1, 1).reshape(-1, 485, 768)\n",
    "a = a.reshape(4, 8, 485, 768)\n",
    "a[1, ...].max()"
   ]
  },
  {
   "cell_type": "code",
   "execution_count": null,
   "metadata": {},
   "outputs": [],
   "source": []
  }
 ],
 "metadata": {
  "kernelspec": {
   "display_name": "research",
   "language": "python",
   "name": "python3"
  },
  "language_info": {
   "codemirror_mode": {
    "name": "ipython",
    "version": 3
   },
   "file_extension": ".py",
   "mimetype": "text/x-python",
   "name": "python",
   "nbconvert_exporter": "python",
   "pygments_lexer": "ipython3",
   "version": "3.11.8"
  }
 },
 "nbformat": 4,
 "nbformat_minor": 2
}
