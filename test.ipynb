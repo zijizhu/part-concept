{
 "cells": [
  {
   "cell_type": "code",
   "execution_count": 1,
   "metadata": {},
   "outputs": [],
   "source": [
    "import json\n",
    "import clip\n",
    "import torch\n",
    "import numpy as np\n",
    "from torch import nn\n",
    "import torch.nn.functional as F"
   ]
  },
  {
   "cell_type": "markdown",
   "metadata": {},
   "source": [
    "# CLIPSeg Experiments"
   ]
  },
  {
   "cell_type": "code",
   "execution_count": 2,
   "metadata": {},
   "outputs": [
    {
     "name": "stderr",
     "output_type": "stream",
     "text": [
      "Some weights of CLIPSegForImageSegmentation were not initialized from the model checkpoint at CIDAS/clipseg-rd64-refined and are newly initialized: ['non_object_embedding', 'text_adapter.fc.0.weight', 'text_adapter.fc.2.weight', 'tunable_linear.weight', 'visual_adapter.fc.0.weight', 'visual_adapter.fc.2.weight']\n",
      "You should probably TRAIN this model on a down-stream task to be able to use it for predictions and inference.\n"
     ]
    },
    {
     "name": "stdout",
     "output_type": "stream",
     "text": [
      "<class 'clipseg.configuration_clipseg.CLIPSegConfig'> 512\n"
     ]
    }
   ],
   "source": [
    "from clipseg_model import CLIPSeg\n",
    "\n",
    "with open('concepts/CUB/parts.txt') as fp:\n",
    "    part_texts = ['bird ' + word for word in fp.read().splitlines()]\n",
    "\n",
    "state_dict = torch.load('checkpoints/clipseg_pascub_ft.pt')\n",
    "model = CLIPSeg(part_texts=part_texts, state_dict=state_dict)"
   ]
  },
  {
   "cell_type": "code",
   "execution_count": 3,
   "metadata": {},
   "outputs": [],
   "source": [
    "import os\n",
    "from torch.utils.data import DataLoader\n",
    "from data.cub_dataset_v2 import CUBDatasetSimple\n",
    "\n",
    "def collate_fn(batch):\n",
    "    image_list, label_list = list(zip(*batch))\n",
    "    return image_list, torch.stack(label_list)\n",
    "\n",
    "dataset_train = CUBDatasetSimple(os.path.join('datasets', 'CUB'), split='train')\n",
    "dataloader_train = DataLoader(dataset=dataset_train, collate_fn=collate_fn, batch_size=2, shuffle=True)\n",
    "dataloader_train_iter = iter(dataloader_train)"
   ]
  },
  {
   "cell_type": "code",
   "execution_count": 4,
   "metadata": {},
   "outputs": [
    {
     "name": "stdout",
     "output_type": "stream",
     "text": [
      "tensor(13.1073)\n"
     ]
    }
   ],
   "source": [
    "with torch.no_grad():\n",
    "    image_list, targets = next(dataloader_train_iter)\n",
    "    loss = model(image_list, targets)\n",
    "    print(loss)"
   ]
  },
  {
   "cell_type": "markdown",
   "metadata": {},
   "source": [
    "# Mahalanobis Distance Experiments"
   ]
  },
  {
   "cell_type": "code",
   "execution_count": null,
   "metadata": {},
   "outputs": [],
   "source": [
    "clip_model, clip_preprocess = clip.load('RN50')\n",
    "\n",
    "with open('concepts/CUB/concepts_processed.json', 'r') as fp:\n",
    "    concept_dict = json.load(fp=fp)\n",
    "\n",
    "unique_concepts = set()\n",
    "for class_name, class_concepts in concept_dict.items():\n",
    "    for concepts in class_concepts.values():\n",
    "        unique_concepts.update(concepts)\n",
    "\n",
    "unique_concepts = sorted(list(unique_concepts))\n",
    "\n",
    "concepts_tokenized = clip.tokenize(unique_concepts)\n",
    "with torch.no_grad():\n",
    "    concepts_encoded = clip_model.encode_text(concepts_tokenized)\n",
    "\n",
    "concepts_encoded_norm = F.normalize(concepts_encoded, dim=-1)\n",
    "concepts_mean = torch.mean(concepts_encoded_norm, dim=0)\n",
    "concepts_cov = torch.cov(concepts_encoded_norm.T)\n",
    "sigma_inv = torch.inverse(concepts_cov)\n",
    "\n",
    "sample = torch.randn(1024)\n",
    "mahalanobis_dist = 1e-4 * (sample - concepts_mean) @ sigma_inv @ (sample - concepts_mean)\n",
    "\n",
    "sample = concepts_encoded_norm[100]\n",
    "mahalanobis_dist = 1e-4 * (sample - concepts_mean) @ sigma_inv @ (sample - concepts_mean)"
   ]
  },
  {
   "cell_type": "code",
   "execution_count": null,
   "metadata": {},
   "outputs": [],
   "source": []
  }
 ],
 "metadata": {
  "kernelspec": {
   "display_name": "research",
   "language": "python",
   "name": "python3"
  },
  "language_info": {
   "codemirror_mode": {
    "name": "ipython",
    "version": 3
   },
   "file_extension": ".py",
   "mimetype": "text/x-python",
   "name": "python",
   "nbconvert_exporter": "python",
   "pygments_lexer": "ipython3",
   "version": "3.11.8"
  }
 },
 "nbformat": 4,
 "nbformat_minor": 2
}
