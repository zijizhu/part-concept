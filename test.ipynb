{
 "cells": [
  {
   "cell_type": "code",
   "execution_count": 1,
   "metadata": {},
   "outputs": [],
   "source": [
    "import json\n",
    "import clip\n",
    "import torch\n",
    "import numpy as np\n",
    "from torch import nn\n",
    "import torch.nn.functional as F"
   ]
  },
  {
   "cell_type": "markdown",
   "metadata": {},
   "source": [
    "# CLIPSeg Experiments"
   ]
  },
  {
   "cell_type": "code",
   "execution_count": 2,
   "metadata": {},
   "outputs": [
    {
     "name": "stderr",
     "output_type": "stream",
     "text": [
      "Some weights of CLIPSegForImageSegmentation were not initialized from the model checkpoint at CIDAS/clipseg-rd64-refined and are newly initialized: ['non_object_embedding', 'text_adapter.fc.0.weight', 'text_adapter.fc.2.weight', 'tunable_linear.weight', 'visual_adapter.fc.0.weight', 'visual_adapter.fc.2.weight']\n",
      "You should probably TRAIN this model on a down-stream task to be able to use it for predictions and inference.\n"
     ]
    },
    {
     "name": "stdout",
     "output_type": "stream",
     "text": [
      "<class 'clipseg.configuration_clipseg.CLIPSegConfig'> 512\n",
      "decoder.film_mul.weight\n",
      "decoder.film_mul.bias\n",
      "decoder.film_add.weight\n",
      "decoder.film_add.bias\n",
      "decoder.transposed_convolution.0.weight\n",
      "decoder.transposed_convolution.0.bias\n",
      "decoder.transposed_convolution.2.weight\n",
      "decoder.transposed_convolution.2.bias\n",
      "decoder.transposed_convolution.4.weight\n",
      "decoder.transposed_convolution.4.bias\n",
      "decoder.reduces.0.weight\n",
      "decoder.reduces.0.bias\n",
      "decoder.reduces.1.weight\n",
      "decoder.reduces.1.bias\n",
      "decoder.reduces.2.weight\n",
      "decoder.reduces.2.bias\n",
      "decoder.layers.0.self_attn.k_proj.weight\n",
      "decoder.layers.0.self_attn.k_proj.bias\n",
      "decoder.layers.0.self_attn.v_proj.weight\n",
      "decoder.layers.0.self_attn.v_proj.bias\n",
      "decoder.layers.0.self_attn.q_proj.weight\n",
      "decoder.layers.0.self_attn.q_proj.bias\n",
      "decoder.layers.0.self_attn.out_proj.weight\n",
      "decoder.layers.0.self_attn.out_proj.bias\n",
      "decoder.layers.0.layer_norm1.weight\n",
      "decoder.layers.0.layer_norm1.bias\n",
      "decoder.layers.0.mlp.fc1.weight\n",
      "decoder.layers.0.mlp.fc1.bias\n",
      "decoder.layers.0.mlp.fc2.weight\n",
      "decoder.layers.0.mlp.fc2.bias\n",
      "decoder.layers.0.layer_norm2.weight\n",
      "decoder.layers.0.layer_norm2.bias\n",
      "decoder.layers.1.self_attn.k_proj.weight\n",
      "decoder.layers.1.self_attn.k_proj.bias\n",
      "decoder.layers.1.self_attn.v_proj.weight\n",
      "decoder.layers.1.self_attn.v_proj.bias\n",
      "decoder.layers.1.self_attn.q_proj.weight\n",
      "decoder.layers.1.self_attn.q_proj.bias\n",
      "decoder.layers.1.self_attn.out_proj.weight\n",
      "decoder.layers.1.self_attn.out_proj.bias\n",
      "decoder.layers.1.layer_norm1.weight\n",
      "decoder.layers.1.layer_norm1.bias\n",
      "decoder.layers.1.mlp.fc1.weight\n",
      "decoder.layers.1.mlp.fc1.bias\n",
      "decoder.layers.1.mlp.fc2.weight\n",
      "decoder.layers.1.mlp.fc2.bias\n",
      "decoder.layers.1.layer_norm2.weight\n",
      "decoder.layers.1.layer_norm2.bias\n",
      "decoder.layers.2.self_attn.k_proj.weight\n",
      "decoder.layers.2.self_attn.k_proj.bias\n",
      "decoder.layers.2.self_attn.v_proj.weight\n",
      "decoder.layers.2.self_attn.v_proj.bias\n",
      "decoder.layers.2.self_attn.q_proj.weight\n",
      "decoder.layers.2.self_attn.q_proj.bias\n",
      "decoder.layers.2.self_attn.out_proj.weight\n",
      "decoder.layers.2.self_attn.out_proj.bias\n",
      "decoder.layers.2.layer_norm1.weight\n",
      "decoder.layers.2.layer_norm1.bias\n",
      "decoder.layers.2.mlp.fc1.weight\n",
      "decoder.layers.2.mlp.fc1.bias\n",
      "decoder.layers.2.mlp.fc2.weight\n",
      "decoder.layers.2.mlp.fc2.bias\n",
      "decoder.layers.2.layer_norm2.weight\n",
      "decoder.layers.2.layer_norm2.bias\n",
      "visual_adapter.fc.0.weight\n",
      "visual_adapter.fc.2.weight\n"
     ]
    }
   ],
   "source": [
    "from clipseg_model import CLIPSeg\n",
    "\n",
    "with open('concepts/CUB/parts.txt') as fp:\n",
    "    part_texts = ['bird ' + word for word in fp.read().splitlines()]\n",
    "\n",
    "state_dict = torch.load('checkpoints/clipseg_pascub_ft.pt')\n",
    "model = CLIPSeg(part_texts=part_texts, ft_layers=['visual_adapter', 'film', 'decoder'], state_dict=state_dict)"
   ]
  },
  {
   "cell_type": "code",
   "execution_count": null,
   "metadata": {},
   "outputs": [],
   "source": [
    "import os\n",
    "from torch.utils.data import DataLoader\n",
    "from data.cub_dataset_v2 import CUBDatasetSimple\n",
    "\n",
    "def collate_fn(batch):\n",
    "    image_list, label_list = list(zip(*batch))\n",
    "    return image_list, torch.stack(label_list)\n",
    "\n",
    "dataset_train = CUBDatasetSimple(os.path.join('datasets', 'CUB'), split='train')\n",
    "dataloader_train = DataLoader(dataset=dataset_train, collate_fn=collate_fn, batch_size=2, shuffle=True)\n",
    "dataloader_train_iter = iter(dataloader_train)"
   ]
  },
  {
   "cell_type": "code",
   "execution_count": null,
   "metadata": {},
   "outputs": [],
   "source": [
    "with torch.no_grad():\n",
    "    image_list, targets = next(dataloader_train_iter)\n",
    "    loss, logits = model(image_list, targets)\n",
    "    print(loss)"
   ]
  },
  {
   "cell_type": "code",
   "execution_count": null,
   "metadata": {},
   "outputs": [],
   "source": []
  },
  {
   "cell_type": "markdown",
   "metadata": {},
   "source": [
    "# Mahalanobis Distance Experiments"
   ]
  },
  {
   "cell_type": "code",
   "execution_count": null,
   "metadata": {},
   "outputs": [],
   "source": [
    "device = torch.device('cuda') if torch.cuda.is_available() else torch.device('cpu')\n",
    "clip_model, clip_preprocess = clip.load('RN50')\n",
    "\n",
    "with open('concepts/CUB/concepts_processed.json', 'r') as fp:\n",
    "    concept_dict = json.load(fp=fp)\n",
    "\n",
    "unique_concepts = set()\n",
    "for class_name, class_concepts in concept_dict.items():\n",
    "    for concepts in class_concepts.values():\n",
    "        unique_concepts.update(concepts)\n",
    "\n",
    "unique_concepts = sorted(list(unique_concepts))\n",
    "\n",
    "concepts_tokenized = clip.tokenize(unique_concepts).to(device)\n",
    "with torch.no_grad():\n",
    "    concepts_encoded = clip_model.encode_text(concepts_tokenized)\n",
    "\n",
    "concepts_encoded = concepts_encoded.to(torch.float32)\n",
    "concepts_encoded_norm = F.normalize(concepts_encoded, dim=-1)\n",
    "concepts_mean = torch.mean(concepts_encoded_norm, dim=0)"
   ]
  },
  {
   "cell_type": "code",
   "execution_count": null,
   "metadata": {},
   "outputs": [],
   "source": [
    "from sklearn.covariance import EmpiricalCovariance\n",
    "\n",
    "cov = EmpiricalCovariance().fit(concepts_encoded.cpu().numpy())\n",
    "_sigma_inv = cov.get_precision()\n",
    "sigma_inv = torch.from_numpy(_sigma_inv).to('cuda')"
   ]
  },
  {
   "cell_type": "code",
   "execution_count": null,
   "metadata": {},
   "outputs": [],
   "source": [
    "def mahalanobis_v1(samples, mu, sigma_inv):\n",
    "    dists = torch.sum((samples - mu) @ sigma_inv * (samples - mu))\n",
    "    return dists\n",
    "\n",
    "def mahalanobis_v2(samples, mu, sigma_inv):\n",
    "    dists = []\n",
    "    for s in samples: \n",
    "        d = (s - mu) @ sigma_inv @ (s - mu)\n",
    "        dists.append(d)\n",
    "    return sum(dists)"
   ]
  },
  {
   "cell_type": "code",
   "execution_count": null,
   "metadata": {},
   "outputs": [],
   "source": [
    "sample1 = torch.randn(10, 1024).to('cuda')\n",
    "sample2 = concepts_encoded[100:110]"
   ]
  },
  {
   "cell_type": "code",
   "execution_count": null,
   "metadata": {},
   "outputs": [],
   "source": [
    "mah1 = mahalanobis_v1(sample2.to(torch.float64), concepts_mean.to(torch.float64), sigma_inv)\n",
    "mah2 = mahalanobis_v2(sample2.to(torch.float64), concepts_mean.to(torch.float64), sigma_inv)"
   ]
  },
  {
   "cell_type": "code",
   "execution_count": null,
   "metadata": {},
   "outputs": [],
   "source": [
    "mah1, mah2"
   ]
  },
  {
   "cell_type": "code",
   "execution_count": null,
   "metadata": {},
   "outputs": [],
   "source": [
    "mah1 = mahalanobis_v1(sample1.to(torch.float64), concepts_mean.to(torch.float64), sigma_inv)\n",
    "mah2 = mahalanobis_v2(sample1.to(torch.float64), concepts_mean.to(torch.float64), sigma_inv)"
   ]
  },
  {
   "cell_type": "code",
   "execution_count": null,
   "metadata": {},
   "outputs": [],
   "source": [
    "mah1, mah2"
   ]
  },
  {
   "cell_type": "code",
   "execution_count": null,
   "metadata": {},
   "outputs": [],
   "source": [
    "class MHBLoss(nn.Module):\n",
    "    def __init__(self, T: torch.Tensor, coef=1e-4) -> None:\n",
    "        super().__init__()\n",
    "        self.coef = coef\n",
    "        \n",
    "        self.T_norm = F.normalize(T, dim=-1)\n",
    "        self.T_mu = torch.mean(self.T_norm, dim=0)\n",
    "        self.T_sigma = torch.cov(self.T_norm.T)\n",
    "\n",
    "        self.T_sigma_inv = torch.inverse(self.T_norm)\n",
    "    \n",
    "    def forward(self, samples):\n",
    "        assert samples.dim in [2, 3]\n",
    "        if samples.dim == 3:\n",
    "            n, m, d = samples.shape\n",
    "            samples_flat = samples.view(n*m, d)\n",
    "        \n",
    "        return self.coef * (samples_flat - self.T_mu) @ sigma_inv @ (samples_flat - concepts_mean)"
   ]
  },
  {
   "cell_type": "code",
   "execution_count": null,
   "metadata": {},
   "outputs": [],
   "source": []
  }
 ],
 "metadata": {
  "kernelspec": {
   "display_name": "research",
   "language": "python",
   "name": "python3"
  },
  "language_info": {
   "codemirror_mode": {
    "name": "ipython",
    "version": 3
   },
   "file_extension": ".py",
   "mimetype": "text/x-python",
   "name": "python",
   "nbconvert_exporter": "python",
   "pygments_lexer": "ipython3",
   "version": "3.11.8"
  }
 },
 "nbformat": 4,
 "nbformat_minor": 2
}
