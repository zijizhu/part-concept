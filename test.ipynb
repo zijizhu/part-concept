{
 "cells": [
  {
   "cell_type": "code",
   "execution_count": 1,
   "metadata": {},
   "outputs": [],
   "source": [
    "import os\n",
    "import clip\n",
    "import copy\n",
    "import torch\n",
    "from torch import nn\n",
    "from datasets import build_datasets\n",
    "import torch.nn.functional as F\n",
    "from torchvision.models import resnet101, ResNet\n",
    "from torch.utils.data import DataLoader\n",
    "from clip.model import CLIP, ModifiedResNet, AttentionPool2d\n",
    "\n",
    "b, k, c, h, w = 4, 8, 1024, 14, 14\n",
    "clip_model, clip_preproess = clip.load('RN50', device=torch.device('cpu'))"
   ]
  },
  {
   "cell_type": "code",
   "execution_count": 18,
   "metadata": {},
   "outputs": [
    {
     "data": {
      "text/plain": [
       "Compose(\n",
       "    Resize(size=224, interpolation=bicubic, max_size=None, antialias=True)\n",
       "    CenterCrop(size=(224, 224))\n",
       "    <function _convert_image_to_rgb at 0x17c31e7a0>\n",
       "    ToTensor()\n",
       "    Normalize(mean=(0.48145466, 0.4578275, 0.40821073), std=(0.26862954, 0.26130258, 0.27577711))\n",
       ")"
      ]
     },
     "execution_count": 18,
     "metadata": {},
     "output_type": "execute_result"
    }
   ],
   "source": [
    "clip_preproess"
   ]
  },
  {
   "cell_type": "code",
   "execution_count": 2,
   "metadata": {},
   "outputs": [],
   "source": [
    "(dataset_train, dataset_val, dataset_test), attr_indices, class_attrs_df = build_datasets(\n",
    "    dataset_dir=os.path.join('datasets', 'CUB'),\n",
    "    attr_subset='cbm',\n",
    "    use_class_level_attr=True,\n",
    "    image_size=448\n",
    ")\n",
    "\n",
    "val_loader = DataLoader(dataset=dataset_val, batch_size=4, shuffle=True, num_workers=4)\n",
    "val_loader_iter = iter(val_loader)"
   ]
  },
  {
   "cell_type": "code",
   "execution_count": 3,
   "metadata": {},
   "outputs": [],
   "source": [
    "class CLIPSpatial(nn.Module):\n",
    "    def __init__(self, clip_model: CLIP):\n",
    "        super().__init__()\n",
    "        assert type(clip_model.visual) == ModifiedResNet\n",
    "        assert type(clip_model.visual.attnpool) == AttentionPool2d\n",
    "        self.visual_backbone = copy.deepcopy(clip_model.visual)\n",
    "        self.visual_backbone.attnpool = nn.Identity()\n",
    "        self.attnpool = copy.deepcopy(clip_model.visual.attnpool)\n",
    "\n",
    "    def forward(self, x: torch.Tensor):\n",
    "        x = self.visual_backbone(x)\n",
    "        b, c, h, w = x.size()  # [BS, 2048, 7, 7]\n",
    "        x = x.permute(0, 2, 3, 1)  # [BS, 7, 7, 2048]\n",
    "        x = x.reshape(-1, c)  # [b*7*7, 2048]\n",
    "        x = x[..., None, None]  # [b*7*7, 2048, 1, 1]\n",
    "        x = x.expand(-1, -1, 7, 7)  # [b*7*7, 2048, 7, 7]\n",
    "        x = self.attnpool(x)  # [b*7*7, 1024]\n",
    "        x = x.reshape(b, h, w, -1)  # [b, 7, 7, 1024]\n",
    "        x = x.permute(0, 3, 1, 2)  # [b, 1024, 7, 7]\n",
    "        return x"
   ]
  },
  {
   "cell_type": "code",
   "execution_count": 15,
   "metadata": {},
   "outputs": [],
   "source": [
    "class PartCEMClip(nn.Module):\n",
    "    def __init__(self, backbone: nn.Module, prototypes: torch.Tensor, *, num_parts=8, num_classes=200, dropout=0.1) -> None:\n",
    "        super().__init__()\n",
    "        self.k = num_parts + 1\n",
    "        self.backbone = backbone\n",
    "        self.dim = 1024\n",
    "        self.prototypes = nn.Parameter(prototypes.unsqueeze(0)) # shape: [1, k, dim]\n",
    "        self.modulations = torch.nn.Parameter(torch.ones((1, self.k, self.dim)))\n",
    "\n",
    "        self.softmax2d = nn.Softmax2d()\n",
    "        self.dropout = nn.Dropout1d(p=dropout)\n",
    "        self.class_fc = nn.Linear(self.dim, num_classes)\n",
    "    \n",
    "    def forward(self, x):\n",
    "        # Pretrained ResNet part of the model\n",
    "        x = self.backbone(x)\n",
    "\n",
    "        b, c, h, w = x.shape\n",
    "        h, w = h*2, w*2\n",
    "        x = torch.nn.functional.interpolate(x, size=(h, w), mode='bilinear') # shape: [b, 2048, h, w], e.g. h=w=14\n",
    "\n",
    "        x_flat = x.view(b, c, h*w).permute(0, 2, 1) # shape: [b,h*w,c]\n",
    "        x_flat_norm = F.normalize(x_flat, p=2, dim=-1) # shape: [b,h*w,c]\n",
    "        proto_norm = F.normalize(self.prototypes, p=2, dim=-1) # shape: [1,k,c]\n",
    "        print(x_flat_norm.isnan().any())\n",
    "        print(proto_norm.isnan().any())\n",
    "\n",
    "        maps = torch.einsum('bnc,bkc->bnk', x_flat_norm, proto_norm.expand(b, -1, -1)) # shape: [b,h*w,k]\n",
    "        maps = maps.permute(0, 2, 1).reshape(b, -1, h, w) # shape: [b,k,h,w]\n",
    "        maps = self.softmax2d(maps) # shape: [b,k,h,w]\n",
    "        print(maps.isnan().any())\n",
    "\n",
    "        parts = torch.einsum('bkhw,bchw->bkchw', maps, x).mean((-1,-2)) # shape: [b,k,h,w], [b,c,h,w] -> [b,k,c]\n",
    "        parts_modulated = parts * self.modulations # shape: [b,k,c]\n",
    "        parts_modulated_dropped = self.dropout(parts_modulated) # shape: [b,k,c]\n",
    "        class_logits = self.class_fc(parts_modulated_dropped) # shape: [b,k,|y|]\n",
    "\n",
    "        return parts, maps, class_logits"
   ]
  },
  {
   "cell_type": "code",
   "execution_count": 16,
   "metadata": {},
   "outputs": [],
   "source": [
    "texts = ['back', 'beak', 'belly', 'breast', 'leg', 'tail', 'wing', 'throat', 'background']\n",
    "with torch.no_grad():\n",
    "    texts_tokenized = clip.tokenize(texts)\n",
    "    texts_encoded = clip_model.encode_text(texts_tokenized)\n",
    "clip_spatial = CLIPSpatial(clip_model)\n",
    "model = PartCEMClip(backbone=clip_spatial, prototypes=texts_encoded.to(torch.float32))"
   ]
  },
  {
   "cell_type": "code",
   "execution_count": 17,
   "metadata": {},
   "outputs": [
    {
     "name": "stdout",
     "output_type": "stream",
     "text": [
      "tensor(False)\n",
      "tensor(False)\n",
      "tensor(False)\n"
     ]
    }
   ],
   "source": [
    "ids, imgs, labels, attrs = next(val_loader_iter)\n",
    "parts, maps, preds = model(imgs)"
   ]
  },
  {
   "cell_type": "code",
   "execution_count": null,
   "metadata": {},
   "outputs": [],
   "source": []
  }
 ],
 "metadata": {
  "kernelspec": {
   "display_name": "research",
   "language": "python",
   "name": "python3"
  },
  "language_info": {
   "codemirror_mode": {
    "name": "ipython",
    "version": 3
   },
   "file_extension": ".py",
   "mimetype": "text/x-python",
   "name": "python",
   "nbconvert_exporter": "python",
   "pygments_lexer": "ipython3",
   "version": "3.11.8"
  }
 },
 "nbformat": 4,
 "nbformat_minor": 2
}
