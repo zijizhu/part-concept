{
 "cells": [
  {
   "cell_type": "code",
   "execution_count": 137,
   "metadata": {},
   "outputs": [],
   "source": [
    "import os\n",
    "import torch\n",
    "import pandas as pd\n",
    "from torch import nn\n",
    "from models.part_cem import PartCEM\n",
    "import matplotlib.pyplot as plt\n",
    "from datasets import build_datasets\n",
    "from torchvision.utils import make_grid\n",
    "import torch.nn.functional as F\n",
    "from torchvision.models import resnet50, ResNet"
   ]
  },
  {
   "cell_type": "code",
   "execution_count": 146,
   "metadata": {},
   "outputs": [
    {
     "data": {
      "text/plain": [
       "tensor(0.8750)"
      ]
     },
     "execution_count": 146,
     "metadata": {},
     "output_type": "execute_result"
    }
   ],
   "source": [
    "b,k,c,h,w = 16, 8, 128, 14, 14\n",
    "a = torch.randn(b, k, c)\n",
    "torch.mean(torch.sub(torch.ones(16,8,8), torch.eye(8)))"
   ]
  },
  {
   "cell_type": "code",
   "execution_count": 119,
   "metadata": {},
   "outputs": [
    {
     "data": {
      "text/plain": [
       "tensor(1.1266)"
      ]
     },
     "execution_count": 119,
     "metadata": {},
     "output_type": "execute_result"
    }
   ],
   "source": [
    "b,k,c,h,w = 16, 8, 128, 14, 14\n",
    "\n",
    "maps = torch.randn(b, k, h, w)\n",
    "\n",
    "loss_pres = torch.nn.functional.avg_pool2d(maps[:, :, 2:-2, 2:-2], 3, stride=1).max(-1)[0].max(-1)[0].max(0)[0].mean()\n",
    "loss_pres"
   ]
  },
  {
   "cell_type": "code",
   "execution_count": null,
   "metadata": {},
   "outputs": [],
   "source": [
    "def pres_loss(maps: torch.Tensor):\n",
    "    maps = maps[..., 2:-2, 2:-2]\n",
    "    maps = F.avg_pool2d(maps, 3, stride=1)\n",
    "    max_vals = F.max_pool2d(maps, 8) # shape: [b, k, 1, 1]\n",
    "    batch_precs, _ = max_vals.max(0) # shape: [k, 1, 1]\n",
    "    return batch_precs.mean()\n",
    "    ..."
   ]
  },
  {
   "cell_type": "code",
   "execution_count": 132,
   "metadata": {},
   "outputs": [
    {
     "data": {
      "text/plain": [
       "tensor(1.1266)"
      ]
     },
     "execution_count": 132,
     "metadata": {},
     "output_type": "execute_result"
    }
   ],
   "source": [
    "F.max_pool2d(F.avg_pool2d(maps[:, :, 2:-2, 2:-2], 3, stride=1), 8).max(0)[0].mean()"
   ]
  },
  {
   "cell_type": "code",
   "execution_count": 136,
   "metadata": {},
   "outputs": [
    {
     "data": {
      "text/plain": [
       "torch.Size([16, 8, 1, 1])"
      ]
     },
     "execution_count": 136,
     "metadata": {},
     "output_type": "execute_result"
    }
   ],
   "source": [
    "F.max_pool2d(F.avg_pool2d(maps[:, :, 2:-2, 2:-2], 3, stride=1), 8).shape"
   ]
  },
  {
   "cell_type": "code",
   "execution_count": 130,
   "metadata": {},
   "outputs": [
    {
     "data": {
      "text/plain": [
       "tensor([[[1.0247]],\n",
       "\n",
       "        [[2.7199]],\n",
       "\n",
       "        [[1.8444]],\n",
       "\n",
       "        [[1.7397]]])"
      ]
     },
     "execution_count": 130,
     "metadata": {},
     "output_type": "execute_result"
    }
   ],
   "source": [
    "F.max_pool2d(torch.randn(4,3,3), 3, 1)"
   ]
  }
 ],
 "metadata": {
  "kernelspec": {
   "display_name": "research",
   "language": "python",
   "name": "python3"
  },
  "language_info": {
   "codemirror_mode": {
    "name": "ipython",
    "version": 3
   },
   "file_extension": ".py",
   "mimetype": "text/x-python",
   "name": "python",
   "nbconvert_exporter": "python",
   "pygments_lexer": "ipython3",
   "version": "3.11.8"
  }
 },
 "nbformat": 4,
 "nbformat_minor": 2
}
